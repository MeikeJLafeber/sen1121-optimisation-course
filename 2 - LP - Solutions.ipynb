{
 "cells": [
  {
   "attachments": {},
   "cell_type": "markdown",
   "id": "af0430fd",
   "metadata": {},
   "source": [
    "# Assignment 1 - Linear Programming (LP)"
   ]
  },
  {
   "attachments": {},
   "cell_type": "markdown",
   "id": "c96b40a3",
   "metadata": {},
   "source": [
    "This assignment is structured in two blocks: individual tasks and group tasks. The individual tasks are made of simple preliminary exercises that should be done individually before the instruction session. These are necessary/helpful for completing the group tasks. The group tasks involve the use of Python/Pyomo and consist of a complete optimization problem, which will be solved during the instructions.\n"
   ]
  },
  {
   "attachments": {},
   "cell_type": "markdown",
   "id": "37cb64fc",
   "metadata": {},
   "source": [
    "## Individual Tasks\n",
    "\n",
    "The individual tasks are solved on paper."
   ]
  },
  {
   "attachments": {},
   "cell_type": "markdown",
   "id": "725888b1",
   "metadata": {},
   "source": [
    "### Exercise 1\n",
    "\n",
    "Consider the following optimization problem:\n",
    "\n",
    "$$𝑀𝑎𝑥 \\quad 𝑓(𝑥_1,𝑥_2)=−𝑥_1−𝑥_2$$\n",
    "$$𝑠.𝑡. \\quad −2𝑥_1−𝑥_2≤4$$\n",
    "$$−2𝑥_1+4𝑥_2≤−8$$\n",
    "$$−𝑥_1+3𝑥_2≤−7$$\n",
    "$$𝑥_1,𝑥_2≥0$$\n",
    "\n",
    "Formulate the dual problem with the help of the duality table below, on paper."
   ]
  },
  {
   "attachments": {},
   "cell_type": "markdown",
   "id": "fff1907c",
   "metadata": {},
   "source": [
    "| **Primal Problem (or dual problem)**             | **Dual problem(or primal problem)**              |\n",
    "|------------------------------------------------------|------------------------------------------------------|\n",
    "| Maximise                                             | Minimise                                             |\n",
    "| **Constraints:**<br> ≤  form<br> =  form<br> ≥  form | **Variables:**<br>≥ 0<br>Unconstrained<br>≤ 0        |\n",
    "| **Variables:**<br> ≥ 0 <br>Unconstrained<br> ≤ 0     | **Constraints:**<br> ≤  form<br> =  form<br> ≥  form |"
   ]
  },
  {
   "attachments": {},
   "cell_type": "markdown",
   "id": "6db9f418",
   "metadata": {},
   "source": [
    "<div style=\"color:red\">\n",
    "\n",
    "- Number of decision variables of the dual problem: 3<br>\n",
    "- Number of constraints of the dual problem: 2<br>\n",
    "\n",
    "$$𝑀𝑖𝑛 \\quad 𝐽(μ1,μ2,μ3)=4μ1−8μ2−7μ3$$\n",
    "$$𝑠.𝑡. \\quad − 2μ1−2μ2−μ3≥−1$$\n",
    "$$−μ1+ 4μ2+ 3μ3≥−1$$\n",
    "$$μ1,μ2,μ3≥0$$\n",
    "</div>"
   ]
  },
  {
   "attachments": {},
   "cell_type": "markdown",
   "id": "c7adafab",
   "metadata": {},
   "source": [
    "### Exercise 2"
   ]
  },
  {
   "attachments": {},
   "cell_type": "markdown",
   "id": "1e32da00",
   "metadata": {},
   "source": [
    "**(a)** Solve the following LP problem (called further primal problem) graphically. (without Python); include in your graph contour lines (isolines) of the objective function. Specify the optimal values for the variables and the objective function.\n",
    "\n",
    "$$ 𝑀𝑎𝑥 \\quad 𝑓(𝑥_1,𝑥_2)=−𝑥_1+5𝑥_2$$\n",
    "$$𝑠.𝑡. \\quad 𝑥_1+𝑥_2≤5$$\n",
    "$$3𝑥_1−4𝑥_2≥8$$\n",
    "$$𝑥_1,𝑥2≥0 $$\n",
    "\n",
    "**(b)** Formulate a dual problem for the primary problem presented in 3(a) and determine which constraints are active (binding) in the dual problem.\n",
    "\n",
    "**(c)** Calculate the shadow price for the active constraints defined in (b) for the dual problem. Answer this question without using Python"
   ]
  },
  {
   "attachments": {},
   "cell_type": "markdown",
   "id": "69a8dddd",
   "metadata": {},
   "source": [
    "<div style=\"color:red\">\n",
    "\n",
    "**(a)**  \n",
    "The boundary condition 𝑥1≥ 1 is not active.  \n",
    "Maximum value =1O  \n",
    "Optimal solution: x1=4; x2=1\n",
    "</div>"
   ]
  },
  {
   "attachments": {},
   "cell_type": "markdown",
   "id": "b2c5fb10",
   "metadata": {},
   "source": [
    "<div style=\"color:red\">\n",
    "\n",
    "**(b)**\n",
    "Dual problem with u_3:\n",
    "$$ Min \\quad J(u_1,u_2,u_3)=5u_1+8u_2 - u_3 \\\\ $$\n",
    "subject to:  \n",
    "$$ u_1-3u_2 - u_3 \\geq -1  \\\\ $$\n",
    "$$ u_1+4u_2 \\geq 5  \\\\  $$\n",
    "$$ u_1,u_2,u_3 \\geq 0   \\\\  $$\n",
    "\n",
    "Dual problem without u_3:\n",
    "$$ Min \\quad J(u_1,u_2)=5u_1+8u_2 \\\\ $$\n",
    "subject to: \n",
    "$$ u_1-3u_2 \\geq -1 \\\\ $$\n",
    "$$ u_1+4u_2 \\geq 5 \\\\ $$\n",
    "$$ u_1,u_2 \\geq 0  \\\\   $$\n",
    "\n",
    "Both boundary conditions are active.\n",
    "</div>"
   ]
  },
  {
   "attachments": {},
   "cell_type": "markdown",
   "id": "9feca8b9",
   "metadata": {},
   "source": [
    "<div style=\"color:red\">\n",
    "\n",
    "**(c)**  \n",
    "First constraint: Shadow price = 4 €   \n",
    "Second constraint:Shadow price = 1 €"
   ]
  },
  {
   "attachments": {},
   "cell_type": "markdown",
   "id": "cebbbefd-95ee-46cd-b012-ef0e13d8a14a",
   "metadata": {},
   "source": [
    "## Group Tasks"
   ]
  },
  {
   "attachments": {},
   "cell_type": "markdown",
   "id": "6efc011b",
   "metadata": {},
   "source": [
    "The group tasks involve the use of Python/Pyomo and consist of a complete optimization problem, which will be solved during the instructions. If you are running this on Google Colab, you need to uncomment (remove the `#`) and execute the following lines to install the Pyomo package, the solver, and some helper tools. If you are running this on Binder or elsewhere (e.g. your own computer) you can ignore this."
   ]
  },
  {
   "cell_type": "code",
   "execution_count": 1,
   "id": "d116ce81",
   "metadata": {},
   "outputs": [],
   "source": [
    "# !pip install pyomo==6.4.1\n",
    "# !apt install glpk-utils\n",
    "# !pip install \"git+https://github.com/sjpfenninger/optimisation-course.git#egg=optimutils&subdirectory=optimutils\""
   ]
  },
  {
   "cell_type": "code",
   "execution_count": null,
   "id": "59c4d69b",
   "metadata": {},
   "outputs": [],
   "source": [
    "import pyomo.environ as pyo\n",
    "from optimutils import summarise_results"
   ]
  },
  {
   "attachments": {},
   "cell_type": "markdown",
   "id": "c6d06383",
   "metadata": {},
   "source": [
    "### Exercise 3"
   ]
  },
  {
   "attachments": {},
   "cell_type": "markdown",
   "id": "c141aebc-ef45-416a-b5c7-5a3f9dac0c64",
   "metadata": {},
   "source": [
    "Consider two generating units supplying at least the system demand P_total,D=650 MW for the coming hour (extra power above the system demand will be used for storage, which is assumed to be unlimited). The unit cost function is characterized by the parameters provided in the table below:\n",
    "\n",
    "| Unit | Generation costs (EUR/MWh) | P_min,G (MW) | P_max,G (MW) |\n",
    "|:---|---:|---:|---:|\n",
    "| 1 | 35 | 0 | 600 |\n",
    "| 2 | 55 | 100 | 300 |\n"
   ]
  },
  {
   "attachments": {},
   "cell_type": "markdown",
   "id": "5dc40505",
   "metadata": {},
   "source": [
    "(a) Formulate the above-mentioned economic dispatch problem as linear programming by specifying:<br>\n",
    "<br>\n",
    "&nbsp;&nbsp;&nbsp;&nbsp;(i) all decision variables<br>\n",
    "<br>\n",
    "&nbsp;&nbsp;&nbsp;&nbsp;(ii) the objective function<br>\n",
    "<br>\n",
    "&nbsp;&nbsp;&nbsp;&nbsp;(iii) relevant constraints\n"
   ]
  },
  {
   "attachments": {},
   "cell_type": "markdown",
   "id": "f2a7451b",
   "metadata": {},
   "source": [
    "<div style=\"color:red\">\n",
    "<br>\n",
    "&nbsp;&nbsp;&nbsp;&nbsp;(i) all decision variables<br>  \n",
    "&nbsp;&nbsp;&nbsp;&nbsp;&nbsp;&nbsp;&nbsp;&nbsp; PG1, PG2 - Power generated by Unit_1 resp. Unit_2  <br>\n",
    "\n",
    "&nbsp;&nbsp;&nbsp;&nbsp;(ii) the objective function<br>  \n",
    "&nbsp;&nbsp;&nbsp;&nbsp;&nbsp;&nbsp;&nbsp;&nbsp; minimise f(PG1,PG2) = 35 * PG2 <br>  \n",
    "\n",
    "&nbsp;&nbsp;&nbsp;&nbsp;(iii) relevant constraints <br>\n",
    "&nbsp;&nbsp;&nbsp;&nbsp;&nbsp;&nbsp;&nbsp;&nbsp; Demand (+storage) constraint: PG1 + PG2  ≥ 650 <br>\n",
    "&nbsp;&nbsp;&nbsp;&nbsp;&nbsp;&nbsp;&nbsp;&nbsp; Capacity constraints: <br>\n",
    "&nbsp;&nbsp;&nbsp;&nbsp;&nbsp;&nbsp;&nbsp;&nbsp;&nbsp;&nbsp;&nbsp;&nbsp;&nbsp;&nbsp;&nbsp;&nbsp;  0 ≤ PG1 ≤ 600 <br>\n",
    "&nbsp;&nbsp;&nbsp;&nbsp;&nbsp;&nbsp;&nbsp;&nbsp;&nbsp;&nbsp;&nbsp;&nbsp;&nbsp;&nbsp;&nbsp;&nbsp; 100 ≤ PG2 ≤ 300 <br>\n",
    "</div>"
   ]
  },
  {
   "attachments": {},
   "cell_type": "markdown",
   "id": "3c78914f",
   "metadata": {},
   "source": [
    "(b) Solve the described problem graphically (without Python); include in your graph contour lines (isolines) of the objective function. Specify the optimal values for the variables and the objective function."
   ]
  },
  {
   "attachments": {},
   "cell_type": "markdown",
   "id": "8cab79a7",
   "metadata": {},
   "source": [
    "<div style=\"color:red\">\n",
    "\n",
    "_See graph_\n",
    "\n",
    "Iso-lines (contour lines) have the form: PG2 = (-35/55) * PG1 + constant, e.g.: PG2 = (-35/55) * PG1 + 300. Here, the value for the iso-line is chosen as J = 16500; 16500 = 35 * PG1 + 55 * PG2. \n",
    "\n",
    "PG2 = (-35/55) * PG1 + 600. Here, the value for the iso-line is chosen as J = 33000; 33000 = 35 * PG1 + 55 * PG2, etc.\n",
    "\n",
    "The optimum (if it exists) lies on a corner of a feasible area. In our case, at the corners of the feasible area, the objective function values are: f(550, 100) = 24750, f(350, 300) = 28750, f(600, 300) = 37500, f(600, 100) = 2650. \n",
    "\n",
    "The minimum is in the point PG1 = 550 and PG2 = 100. Unit_1 should produce 550 MW and Unit_2 should produce 100 MW. The total cost is 24750 [€/h].\n",
    "\n",
    "</div>"
   ]
  },
  {
   "attachments": {},
   "cell_type": "markdown",
   "id": "ab218bdf",
   "metadata": {},
   "source": [
    "(c) What can you say about the sensitivity of the presented problem? Answer this question without using Python by calculating shadow prices."
   ]
  },
  {
   "attachments": {},
   "cell_type": "markdown",
   "id": "04933f29",
   "metadata": {},
   "source": [
    "<div style=\"color:red\">\n",
    "\n",
    "**Sensitivity w.r.t. allowable increase/decrease of the (cost) coefficients in the objective function**  \n",
    "The demand constraint and the capacity constraint for PG2 with lower bound (PG2 ≥ 100) are the active (binding) constraints. To say something about the sensitivity of the minimum with respect to the (cost) coefficients in the objective function we comparethe position of the iso-lineswith the position of the demand constraint. We see that if the iso-lines would be parallel to the demand constraint weget the infinit enumber of solutions (all points on the demand constraint). So we can conclude that if the cost coefficient of Unit_1 will remain below 55, we will get still the same optimum (allowable increase of the cost coefficient for Unit_1 is 20). If the cost coefficient for Unit_1 becomes more than 55, the minimum would change to the point (350, 300). By analogy, we can say that the allowable decreasing of the cost coefficient for Unit_2 is 20 (it should be more than 35) to get the same optimum.  \n",
    "\n",
    "The active capacity constraint (PG2 ≥ 100) can be replaced by a lower bound not less than 50, and the optimum will still be at the intersection with the lower-bound capacity constraint for PG2. If the lower bound for PG2 is less than 50, then the upper bound on PG1 would be an active constraint.  \n",
    "\n",
    "**Sensitivity with respect to small change in the active constraint**  \n",
    " It is often interesting to see to what extent the objective function will change if there is a small change in an active constraint. In Linear Programming (LP), we look for the so-called shadow prices; they tell us how much the objective function will change in case the active constraint is changed by +1 unit.\n",
    "\n",
    "In this case, there are two active constraints (i.e., constraints on which the optimum lies):  \n",
    "- PG1 + PG2 = 650  \n",
    "- PG2 = 100  \n",
    "\n",
    "To calculate the shadow price for the 1st active constraint, we solve the following optimization problem.\n",
    "\n",
    "</div>"
   ]
  },
  {
   "attachments": {},
   "cell_type": "markdown",
   "id": "a259d7c6-9950-4adf-b69c-f265fdb66cc3",
   "metadata": {},
   "source": [
    "(d) Solve the problem in Python and specifically examine the shadow prices delivered by Pyomo for the optimal solution. Compare your solutions here with your answers above."
   ]
  },
  {
   "cell_type": "code",
   "execution_count": null,
   "id": "ecf0360f",
   "metadata": {},
   "outputs": [],
   "source": [
    "model = pyo.ConcreteModel(name = \"Primal Problem\")\n",
    "model.dual = pyo.Suffix(direction=pyo.Suffix.IMPORT)\n",
    "\n",
    "##\n",
    "# 1. Decision variables\n",
    "##\n",
    "\n",
    "model.Unit1 = pyo.Var(domain=pyo.NonNegativeReals)\n",
    "model.Unit2 = pyo.Var(domain=pyo.NonNegativeReals)\n",
    "\n",
    "##\n",
    "# 2. Objective function\n",
    "##\n",
    "\n",
    "model.profit = pyo.Objective(\n",
    "    expr = 35 * model.Unit1 + 55 * model.Unit2,\n",
    "    sense = pyo.minimize,\n",
    ")\n",
    "\n",
    "##\n",
    "# 3. Constraints\n",
    "##\n",
    "\n",
    "model.demand = pyo.Constraint(expr = model.Unit1 + model.Unit2 >= 650)\n",
    "\n",
    "model.UpperLimit1 = pyo.Constraint(expr = model.Unit1 <= 600)\n",
    "model.LowerLimit1 = pyo.Constraint(expr = model.Unit1 >= 0)\n",
    "\n",
    "model.UpperLimit2 = pyo.Constraint(expr = model.Unit2 <= 300)\n",
    "model.LowerLimit2 = pyo.Constraint(expr = model.Unit2 >= 100)\n",
    "\n",
    "# Solve the problem\n",
    "solver = pyo.SolverFactory('glpk')\n",
    "solver.solve(model)"
   ]
  },
  {
   "cell_type": "code",
   "execution_count": null,
   "id": "a8439dba-e45b-4015-ba74-711151e44e81",
   "metadata": {},
   "outputs": [],
   "source": [
    "summarise_results(model)"
   ]
  },
  {
   "attachments": {},
   "cell_type": "markdown",
   "id": "10984353-d2e1-4f99-a129-8e6a37d1c6c6",
   "metadata": {},
   "source": [
    "(e) Formulate and solve the dual problem in Python to calculate the shadow prices yourself. What do you observe regarding the solution of the primal and the dual problem?"
   ]
  },
  {
   "attachments": {},
   "cell_type": "markdown",
   "id": "ce01f0f2-b1cf-4bb2-9e2b-8cdb5e6fba62",
   "metadata": {},
   "source": [
    "<div class=\"alert alert-block alert-info\">\n",
    "\n",
    "💡 We will call the dual model `dual_model` instead of `model`. This way, the original (primal) model is still available as well if we want to analyse it further.\n",
    "\n",
    "</div>"
   ]
  },
  {
   "cell_type": "code",
   "execution_count": null,
   "id": "9e06d3bf",
   "metadata": {},
   "outputs": [
    {
     "data": {
      "text/plain": [
       "{'Problem': [{'Name': 'unknown', 'Lower bound': 24750.0, 'Upper bound': 24750.0, 'Number of objectives': 1, 'Number of constraints': 3, 'Number of variables': 5, 'Number of nonzeros': 6, 'Sense': 'maximize'}], 'Solver': [{'Status': 'ok', 'Termination condition': 'optimal', 'Statistics': {'Branch and bound': {'Number of bounded subproblems': 0, 'Number of created subproblems': 0}}, 'Error rc': 0, 'Time': 0.007383108139038086}], 'Solution': [OrderedDict([('number of solutions', 0), ('number of solutions displayed', 0)])]}"
      ]
     },
     "execution_count": 5,
     "metadata": {},
     "output_type": "execute_result"
    }
   ],
   "source": [
    "dual_model = pyo.ConcreteModel(name = \"Dual Problem\")\n",
    "dual_model.dual = pyo.Suffix(direction=pyo.Suffix.IMPORT)\n",
    "\n",
    "##\n",
    "# 1. Decision variables\n",
    "##\n",
    "\n",
    "dual_model.z1 = pyo.Var(domain=pyo.NonNegativeReals)\n",
    "dual_model.z2 = pyo.Var(domain=pyo.NonNegativeReals)\n",
    "dual_model.z3 = pyo.Var(domain=pyo.NonNegativeReals)\n",
    "dual_model.z4 = pyo.Var(domain=pyo.NonNegativeReals)\n",
    "\n",
    "##\n",
    "# 2. Objective function\n",
    "##\n",
    "\n",
    "dual_model.profit = pyo.Objective(\n",
    "    expr = 650*dual_model.z1 - 600*dual_model.z2 + 100*dual_model.z3 - 300*dual_model.z4,\n",
    "    sense = pyo.maximize\n",
    ")\n",
    "\n",
    "##\n",
    "# 3. Constraints\n",
    "##\n",
    "\n",
    "dual_model.c1 = pyo.Constraint(expr = dual_model.z1 - dual_model.z2 <= 35)\n",
    "dual_model.c2 = pyo.Constraint(expr = dual_model.z1 + dual_model.z3 - dual_model.z4 <= 55)\n",
    "\n",
    "# Solve the problem\n",
    "solver = pyo.SolverFactory('glpk')\n",
    "solver.solve(dual_model)"
   ]
  },
  {
   "cell_type": "code",
   "execution_count": null,
   "id": "5f87c118-2aa9-4705-b483-c9b7a7e99ac9",
   "metadata": {},
   "outputs": [
    {
     "data": {
      "text/html": [
       "<style type=\"text/css\">\n",
       "</style>\n",
       "<table id=\"T_fd391\" style='display:inline'>\n",
       "  <caption>Objective</caption>\n",
       "  <thead>\n",
       "    <tr>\n",
       "      <th class=\"blank level0\" >&nbsp;</th>\n",
       "      <th id=\"T_fd391_level0_col0\" class=\"col_heading level0 col0\" >Name</th>\n",
       "      <th id=\"T_fd391_level0_col1\" class=\"col_heading level0 col1\" >Value</th>\n",
       "    </tr>\n",
       "  </thead>\n",
       "  <tbody>\n",
       "    <tr>\n",
       "      <th id=\"T_fd391_level0_row0\" class=\"row_heading level0 row0\" >0</th>\n",
       "      <td id=\"T_fd391_row0_col0\" class=\"data row0 col0\" >profit</td>\n",
       "      <td id=\"T_fd391_row0_col1\" class=\"data row0 col1\" >24750.000000</td>\n",
       "    </tr>\n",
       "  </tbody>\n",
       "</table>\n",
       "   <style type=\"text/css\">\n",
       "</style>\n",
       "<table id=\"T_dae7c\" style='display:inline'>\n",
       "  <caption>Variables</caption>\n",
       "  <thead>\n",
       "    <tr>\n",
       "      <th class=\"blank level0\" >&nbsp;</th>\n",
       "      <th id=\"T_dae7c_level0_col0\" class=\"col_heading level0 col0\" >Name</th>\n",
       "      <th id=\"T_dae7c_level0_col1\" class=\"col_heading level0 col1\" >Value</th>\n",
       "    </tr>\n",
       "  </thead>\n",
       "  <tbody>\n",
       "    <tr>\n",
       "      <th id=\"T_dae7c_level0_row0\" class=\"row_heading level0 row0\" >0</th>\n",
       "      <td id=\"T_dae7c_row0_col0\" class=\"data row0 col0\" >z1</td>\n",
       "      <td id=\"T_dae7c_row0_col1\" class=\"data row0 col1\" >35.000000</td>\n",
       "    </tr>\n",
       "    <tr>\n",
       "      <th id=\"T_dae7c_level0_row1\" class=\"row_heading level0 row1\" >1</th>\n",
       "      <td id=\"T_dae7c_row1_col0\" class=\"data row1 col0\" >z2</td>\n",
       "      <td id=\"T_dae7c_row1_col1\" class=\"data row1 col1\" >0.000000</td>\n",
       "    </tr>\n",
       "    <tr>\n",
       "      <th id=\"T_dae7c_level0_row2\" class=\"row_heading level0 row2\" >2</th>\n",
       "      <td id=\"T_dae7c_row2_col0\" class=\"data row2 col0\" >z3</td>\n",
       "      <td id=\"T_dae7c_row2_col1\" class=\"data row2 col1\" >20.000000</td>\n",
       "    </tr>\n",
       "    <tr>\n",
       "      <th id=\"T_dae7c_level0_row3\" class=\"row_heading level0 row3\" >3</th>\n",
       "      <td id=\"T_dae7c_row3_col0\" class=\"data row3 col0\" >z4</td>\n",
       "      <td id=\"T_dae7c_row3_col1\" class=\"data row3 col1\" >0.000000</td>\n",
       "    </tr>\n",
       "  </tbody>\n",
       "</table>\n",
       "   <style type=\"text/css\">\n",
       "</style>\n",
       "<table id=\"T_6e316\" style='display:inline'>\n",
       "  <caption>Constraints</caption>\n",
       "  <thead>\n",
       "    <tr>\n",
       "      <th class=\"blank level0\" >&nbsp;</th>\n",
       "      <th id=\"T_6e316_level0_col0\" class=\"col_heading level0 col0\" >Name</th>\n",
       "      <th id=\"T_6e316_level0_col1\" class=\"col_heading level0 col1\" >Expression</th>\n",
       "      <th id=\"T_6e316_level0_col2\" class=\"col_heading level0 col2\" >Value</th>\n",
       "      <th id=\"T_6e316_level0_col3\" class=\"col_heading level0 col3\" >Shadow price</th>\n",
       "      <th id=\"T_6e316_level0_col4\" class=\"col_heading level0 col4\" >Binding</th>\n",
       "    </tr>\n",
       "  </thead>\n",
       "  <tbody>\n",
       "    <tr>\n",
       "      <th id=\"T_6e316_level0_row0\" class=\"row_heading level0 row0\" >0</th>\n",
       "      <td id=\"T_6e316_row0_col0\" class=\"data row0 col0\" >c1</td>\n",
       "      <td id=\"T_6e316_row0_col1\" class=\"data row0 col1\" >z1 - z2  <=  35</td>\n",
       "      <td id=\"T_6e316_row0_col2\" class=\"data row0 col2\" >35.000000</td>\n",
       "      <td id=\"T_6e316_row0_col3\" class=\"data row0 col3\" >550.000000</td>\n",
       "      <td id=\"T_6e316_row0_col4\" class=\"data row0 col4\" >True</td>\n",
       "    </tr>\n",
       "    <tr>\n",
       "      <th id=\"T_6e316_level0_row1\" class=\"row_heading level0 row1\" >1</th>\n",
       "      <td id=\"T_6e316_row1_col0\" class=\"data row1 col0\" >c2</td>\n",
       "      <td id=\"T_6e316_row1_col1\" class=\"data row1 col1\" >z1 + z3 - z4  <=  55</td>\n",
       "      <td id=\"T_6e316_row1_col2\" class=\"data row1 col2\" >55.000000</td>\n",
       "      <td id=\"T_6e316_row1_col3\" class=\"data row1 col3\" >100.000000</td>\n",
       "      <td id=\"T_6e316_row1_col4\" class=\"data row1 col4\" >True</td>\n",
       "    </tr>\n",
       "  </tbody>\n",
       "</table>\n",
       "   "
      ],
      "text/plain": [
       "<IPython.core.display.HTML object>"
      ]
     },
     "metadata": {},
     "output_type": "display_data"
    }
   ],
   "source": [
    "summarise_results(dual_model)"
   ]
  },
  {
   "attachments": {},
   "cell_type": "markdown",
   "id": "6d1b32b2-5049-4aaf-9125-24baaf13a429",
   "metadata": {},
   "source": [
    "### Exercise 4"
   ]
  },
  {
   "attachments": {},
   "cell_type": "markdown",
   "id": "f2fe52e7-cf83-4bf0-86c7-eae513957130",
   "metadata": {},
   "source": [
    "The  U.S.  Environmental  Protection  Agency  has  proposed  its  first-ever  limit  on  carbon  dioxide emissions from new power plants. The EPA’s new regulations will limit carbon dioxide  emissions from future fossil fuel power plants to 400 kg of CO$_2$ per megawatt hour.\n",
    "\n",
    "Power Company PC has in three different control areas generating plants of type A and generating plants  of  type  B, and  is  finishing  construction  of  two  new  efficient  gas-fired  power  plants,  one  in Control Area 1 and one in Control Area 2 (see Table below with the generating costs and emissions). They will be operational before winter 2016. \n",
    "\n",
    "\n",
    "The power company cannot emit more than 1.400.000kg CO$_2$ per hour without high penalties. This limit will not change after putting new power plants into operation. \n",
    "The expectation of Coalition for Clean Energy is that the new CO$_2$ emission limits will drive up energy prices.  To  what  extend  do  you  agree  with  this  statement  on  the basis  of  the  situation  of  the  power company PC? To answer this question investigate an economic dispatch of the company by taking into account only the old generation plants being already in operation. \n",
    "The power company is supplying expected demand of 1500 MW next hour for the three control area together. No plant should be operating at less than 10% of its maximal capacity."
   ]
  },
  {
   "attachments": {},
   "cell_type": "markdown",
   "id": "43805e31",
   "metadata": {},
   "source": [
    "|  | Cost in Control Area CA1 [USD/MWh] | Cost in Control Area CA2 [USD/MWh]  | Cost in Control Area CA3 [USD/MWh]  | Max Capacity [MW] | CO2 pollution [kg/MWh] |\n",
    "|----------|---------------|------------|--------------|--------------|---------------------|\n",
    "| Plant type A <br>(coal-fired) <br>OLD                     \t| 30                  \t| 32                  \t| 35                  \t| in CA1,CA2: 500<br>in CA3: 400 \t| 1200                      \t|\n",
    "| Plant type B<br>(oil-based) <br>OLD                       \t| 80                  \t| 75                  \t| 72                  \t| in CA1,CA2: 40<br>in CA3: 500  \t| 800                       \t|\n",
    "| Plant type C<br>(gas-fired; <br>under construction)<br>NEW \t| 90                  \t| 85                  \t| -                   \t| in CA1: 700<br>in CA2: 600     \t| 400                       \t|\n"
   ]
  },
  {
   "attachments": {},
   "cell_type": "markdown",
   "id": "bcb8bb76",
   "metadata": {},
   "source": [
    "**(a)** First, we consider the situation with only the two existing plant types A and B. How should the dispatch of these two plants type A and B be done at minimal cost? What are then the production costs? To answer both questions, formulate a linear program, i.e: <br>\n",
    "<br>\n",
    "&nbsp;&nbsp;&nbsp;&nbsp;(i) Specify all decision variables<br>\n",
    "<br>\n",
    "&nbsp;&nbsp;&nbsp;&nbsp;(ii) Formulate constraints<br>\n",
    "<br>\n",
    "&nbsp;&nbsp;&nbsp;&nbsp;(iii) Define the objective function\n"
   ]
  },
  {
   "attachments": {},
   "cell_type": "markdown",
   "id": "596173dc",
   "metadata": {},
   "source": [
    "<div class=\"alert alert-block alert-info\">\n",
    "\n",
    "💡 Here we are making yet another change to what variable name we give to the model. We simply use `m` which, thanks to its brevity, makes the rest of the model formulation easier to read (and faster to type).\n",
    "\n",
    "</div>"
   ]
  },
  {
   "cell_type": "code",
   "execution_count": null,
   "id": "640720ae-c92d-4644-8d6f-e4d2a1073b64",
   "metadata": {},
   "outputs": [],
   "source": [
    "m = pyo.ConcreteModel(name = \"Model 5.a)\")\n",
    "m.dual = pyo.Suffix(direction=pyo.Suffix.IMPORT)\n",
    "\n",
    "##\n",
    "# 1. Decision variables\n",
    "##\n",
    "\n",
    "m.A1 = pyo.Var(domain=pyo.NonNegativeReals)\n",
    "m.A2 = pyo.Var(domain=pyo.NonNegativeReals)\n",
    "m.A3 = pyo.Var(domain=pyo.NonNegativeReals)\n",
    "m.B1 = pyo.Var(domain=pyo.NonNegativeReals)\n",
    "m.B2 = pyo.Var(domain=pyo.NonNegativeReals)\n",
    "m.B3 = pyo.Var(domain=pyo.NonNegativeReals)\n",
    "\n",
    "##\n",
    "# 2. Objective function\n",
    "##\n",
    "\n",
    "m.profit = pyo.Objective(\n",
    "    expr = 30 * m.A1 + 32 * m.A2 + 35 * m.A3 + 80 * m.B1 + 75 * m.B2 + 72 * m.B3,\n",
    "    sense = pyo.minimize,\n",
    ")\n",
    "\n",
    "##\n",
    "# 3. Constraints\n",
    "##\n",
    "\n",
    "m.A1_lower = pyo.Constraint(expr = m.A1 >= 50)\n",
    "m.A1_upper = pyo.Constraint(expr = m.A1 <= 500)\n",
    "m.A2_lower = pyo.Constraint(expr = m.A2 >= 50)\n",
    "m.A2_upper = pyo.Constraint(expr = m.A2 <= 500)\n",
    "m.A3_lower = pyo.Constraint(expr = m.A3 >= 40)\n",
    "m.A3_upper = pyo.Constraint(expr = m.A3 <= 400)\n",
    "m.B1_lower = pyo.Constraint(expr = m.B1 >= 40)\n",
    "m.B1_upper = pyo.Constraint(expr = m.B1 <= 400)\n",
    "m.B2_lower = pyo.Constraint(expr = m.B2 >= 40)\n",
    "m.B2_upper = pyo.Constraint(expr = m.B2 <= 400)\n",
    "m.B3_lower = pyo.Constraint(expr = m.B3 >= 50)\n",
    "m.B3_upper = pyo.Constraint(expr = m.B3 <= 500)\n",
    "m.demand = pyo.Constraint(expr = m.A1 + m.A2 + m.A3 + m.B1 + m.B2 + m.B3 == 1500)\n",
    "m.emission_limit = pyo.Constraint(expr = 1200 * m.A1 + 1200 * m.A2 + 1200 * m.A3 + 800 * m.B1 + 800 * m.B2 + 800 * m.B3 <= 1400000)\n",
    "\n",
    "# Solve the problem\n",
    "solver = pyo.SolverFactory('glpk')\n",
    "solver.solve(m)"
   ]
  },
  {
   "cell_type": "code",
   "execution_count": null,
   "id": "590ecae8-458e-4e2d-8c95-4ae6af9decfd",
   "metadata": {},
   "outputs": [],
   "source": [
    "summarise_results(m)"
   ]
  },
  {
   "attachments": {},
   "cell_type": "markdown",
   "id": "3c6f44c9-771c-425f-8949-bbcf63cc0459",
   "metadata": {},
   "source": [
    "<div class=\"alert alert-block alert-info\">\n",
    "\n",
    "💡 To avoid having to manually specify all the upper and lower limits for the variables as separate constraints, you can also set the *variable bounds* during the creation of the variable as follows:\n",
    "\n",
    "```python\n",
    "m.A1 = pyo.Var(domain=pyo.NonNegativeReals, bounds=(50, 500))\n",
    "m.A2 = pyo.Var(domain=pyo.NonNegativeReals, bounds=(50, 500))\n",
    "m.A3 = pyo.Var(domain=pyo.NonNegativeReals, bounds=(40, 400))\n",
    "m.B1 = pyo.Var(domain=pyo.NonNegativeReals, bounds=(40, 400))\n",
    "m.B2 = pyo.Var(domain=pyo.NonNegativeReals, bounds=(40, 400))\n",
    "m.B3 = pyo.Var(domain=pyo.NonNegativeReals, bounds=(50, 500))\n",
    "```\n",
    "\n",
    "The disadvantage is that you will not get the constraints you replace that way in the list of constrainst when analysing the model with `summarise_lp_results`.\n",
    "    \n",
    "</div>"
   ]
  },
  {
   "attachments": {},
   "cell_type": "markdown",
   "id": "742f1755-c7d0-44e3-b346-98fbc56ebb7d",
   "metadata": {},
   "source": [
    "**(b)** Now, we include consideration of the new plant type C. How should the dispatch of all three plants —type A, B and new type C —be done at minimal cost? What are then the production costs? (implement and solve the problem in Python to answer this) "
   ]
  },
  {
   "attachments": {},
   "cell_type": "markdown",
   "id": "70b29146-e98e-48b2-8b7e-908d6a651572",
   "metadata": {},
   "source": [
    "<div class=\"alert alert-block alert-info\">\n",
    "\n",
    "💡 We are overwriting the model from 5.a with that of 5.b by also assigning it to the variable `m`.\n",
    "\n",
    "</div>"
   ]
  },
  {
   "cell_type": "code",
   "execution_count": null,
   "id": "02a72610-974c-4f70-a32b-e1ba95dd6e24",
   "metadata": {},
   "outputs": [],
   "source": [
    "m = pyo.ConcreteModel(name = \"Model 5.b)\")\n",
    "m.dual = pyo.Suffix(direction=pyo.Suffix.IMPORT)\n",
    "\n",
    "##\n",
    "# 1. Decision variables\n",
    "##\n",
    "\n",
    "m.A1 = pyo.Var(domain=pyo.NonNegativeReals)\n",
    "m.A2 = pyo.Var(domain=pyo.NonNegativeReals)\n",
    "m.A3 = pyo.Var(domain=pyo.NonNegativeReals)\n",
    "m.B1 = pyo.Var(domain=pyo.NonNegativeReals)\n",
    "m.B2 = pyo.Var(domain=pyo.NonNegativeReals)\n",
    "m.B3 = pyo.Var(domain=pyo.NonNegativeReals)\n",
    "m.C1 = pyo.Var(domain=pyo.NonNegativeReals)\n",
    "m.C2 = pyo.Var(domain=pyo.NonNegativeReals)\n",
    "\n",
    "##\n",
    "# 2. Objective function\n",
    "##\n",
    "\n",
    "m.profit = pyo.Objective(\n",
    "    expr = 30 * m.A1 + 32 * m.A2 + 35 * m.A3 + 80 * m.B1 + 75 * m.B2 + 72 * m.B3 + 90 * m.C1 + 85 * m.C2,\n",
    "    sense = pyo.minimize,\n",
    ")\n",
    "\n",
    "##\n",
    "# 3. Constraints\n",
    "##\n",
    "\n",
    "m.A1_lower = pyo.Constraint(expr = m.A1 >= 50)\n",
    "m.A1_upper = pyo.Constraint(expr = m.A1 <= 500)\n",
    "m.A2_lower = pyo.Constraint(expr = m.A2 >= 50)\n",
    "m.A2_upper = pyo.Constraint(expr = m.A2 <= 500)\n",
    "m.A3_lower = pyo.Constraint(expr = m.A3 >= 40)\n",
    "m.A3_upper = pyo.Constraint(expr = m.A3 <= 400)\n",
    "m.B1_lower = pyo.Constraint(expr = m.B1 >= 40)\n",
    "m.B1_upper = pyo.Constraint(expr = m.B1 <= 400)\n",
    "m.B2_lower = pyo.Constraint(expr = m.B2 >= 40)\n",
    "m.B2_upper = pyo.Constraint(expr = m.B2 <= 400)\n",
    "m.B3_lower = pyo.Constraint(expr = m.B3 >= 50)\n",
    "m.B3_upper = pyo.Constraint(expr = m.B3 <= 500)\n",
    "m.C1_lower = pyo.Constraint(expr = m.C1 >= 70)\n",
    "m.C1_upper = pyo.Constraint(expr = m.C1 <= 700)\n",
    "m.C2_lower = pyo.Constraint(expr = m.C2 >= 60)\n",
    "m.C2_upper = pyo.Constraint(expr = m.C2 <= 600)\n",
    "m.demand = pyo.Constraint(expr = m.A1 + m.A2 + m.A3 + m.B1 + m.B2 + m.B3 + m.C1 + m.C2 == 1500)\n",
    "m.emission_limit = pyo.Constraint(\n",
    "    expr = 1200 * m.A1 + 1200 * m.A2 + 1200 * m.A3 + 800 * m.B1 + 800 * m.B2 + 800 * m.B3 + 400 * m.C1 + 400 * m.C2 <= 1400000\n",
    ")\n",
    "\n",
    "# Solve the problem\n",
    "solver = pyo.SolverFactory('glpk')\n",
    "solver.solve(m)"
   ]
  },
  {
   "cell_type": "code",
   "execution_count": null,
   "id": "5477d9d7-06d2-42e4-9f07-0eb3280ea3ad",
   "metadata": {},
   "outputs": [],
   "source": [
    "summarise_results(m)"
   ]
  },
  {
   "attachments": {},
   "cell_type": "markdown",
   "id": "66a74f6b",
   "metadata": {},
   "source": [
    "**(c)** Specify which constraints are active (binding) in the optimum (5b). What does it mean?"
   ]
  },
  {
   "attachments": {},
   "cell_type": "markdown",
   "id": "39088e7f",
   "metadata": {},
   "source": [
    "<div style=\"color:red\">\n",
    "If a constraint is active (also called a binding constraint), then it is satisfied in the optimum as an equality constraint. Equality constraints are always active. The shadow price of an active constraint is different from zero. In total, there are eight active (binding) constraints:  \n",
    "\n",
    "\n",
    "- Emission constraint   \n",
    "- Demand constraint  \n",
    "- Upper bound of A1  \n",
    "- Lower bound of A3, B1, B2, B3, and C1</div>"
   ]
  },
  {
   "attachments": {},
   "cell_type": "markdown",
   "id": "039f4ae8",
   "metadata": {},
   "source": [
    "**(d)** What are the shadow prices with respect to the demand constraint and emission constraint for (5b)?"
   ]
  },
  {
   "attachments": {},
   "cell_type": "markdown",
   "id": "31ffff0c",
   "metadata": {},
   "source": [
    "<div style=\"color:red\">\n",
    "\n",
    "The shadow price of 111.5 for the demand constraint is the instantaneous change in the objective value of the optimal solution obtained by relaxing the constraint (changing the right-hand side of the constraint by 1). The shadow price is valid up to the allowable increase or decrease in the constraint.  \n",
    "\n",
    "The shadow price of -0.006625 for the emission constraint is the change in the objective value of the optimal solution obtained by changing the right-hand side of the constraint by 1, i.e. 1200 * A1 + 1200 * A2 + 1200 * A3 + 800 * B1 + 800 * B2 + 800 * B3 ≤ 1400001. The shadow price is valid up to the allowable increase or decrease in the constraint.  \n",
    "\n",
    "Interpretation: If the demand will be not 1500 but 1501, the cost function will change by +111.5. If the emission limit will be not 1400000 but 1400001, the cost function will change by -0.0662.\n",
    "</div>"
   ]
  },
  {
   "attachments": {},
   "cell_type": "markdown",
   "id": "04db492b",
   "metadata": {},
   "source": [
    "**(e)** To what extent do you agree with the statement “The expectation is that the new CO2emission limits will drive up energy prices” on the basis of the situation of power company PC?"
   ]
  },
  {
   "attachments": {},
   "cell_type": "markdown",
   "id": "d358f8bc",
   "metadata": {},
   "source": [
    "<div style=\"color:red\">\n",
    "It is clear that when only production costs will be taken into consideration without considering fixed costs (investments) and penalties for violating the emission limits, then the case of PC does not support the hypothesis that the new CO2 emission limits will drive up energy price.\n",
    "</div>"
   ]
  }
 ],
 "metadata": {
  "kernelspec": {
   "display_name": "Python 3 (ipykernel)",
   "language": "python",
   "name": "python3"
  },
  "language_info": {
   "codemirror_mode": {
    "name": "ipython",
    "version": 3
   },
   "file_extension": ".py",
   "mimetype": "text/x-python",
   "name": "python",
   "nbconvert_exporter": "python",
   "pygments_lexer": "ipython3",
   "version": "3.10.2"
  }
 },
 "nbformat": 4,
 "nbformat_minor": 5
}
