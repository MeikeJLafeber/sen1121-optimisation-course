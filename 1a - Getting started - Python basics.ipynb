{
 "cells": [
  {
   "attachments": {},
   "cell_type": "markdown",
   "id": "cb70f61b-2a23-45ff-aa52-c77dfc590d5f",
   "metadata": {},
   "source": [
    "# Getting started: Python Basics"
   ]
  },
  {
   "attachments": {},
   "cell_type": "markdown",
   "id": "87c85d21-c9b8-4a6d-95a9-fc2500510737",
   "metadata": {},
   "source": [
    "This notebook is a quick introduction to Python. It is not meant to be a comprehensive introduction to Python, but rather a quick overview of the most important concepts that we will use in this course. If you already have basic Python skills, you can skip this notebook and go directly through the next notebook: `1b - Getting started - Pyomo introduction`"
   ]
  },
  {
   "attachments": {},
   "cell_type": "markdown",
   "id": "f964a4e3-2258-4b79-a341-aaa90cdc4e7d",
   "metadata": {},
   "source": [
    "## Python basics"
   ]
  },
  {
   "attachments": {},
   "cell_type": "markdown",
   "id": "d6122209-3c6b-44c9-bece-b1a658659099",
   "metadata": {},
   "source": [
    "Where to learn the basics of Python?\n",
    "\n",
    "In this course you can get away with using Python in a basic way, like a scientific calculator.\n",
    "\n",
    "However, learning some basic Python, like minimal use of control statements (especially `for` loops) will make some steps quicker and easier to do.\n",
    "\n",
    "There are many online resources to learn Python. Some examples are listed below - check out different options and see what works best for you."
   ]
  },
  {
   "cell_type": "markdown",
   "id": "2b76cfe4-c702-4b93-a17c-c47d570ef9f7",
   "metadata": {},
   "source": [
    "## LearnPython.org\n",
    "\n",
    "The website [LearnPython.org](https://www.learnpython.org/) provides a free, interactive introduction to Python."
   ]
  },
  {
   "attachments": {},
   "cell_type": "markdown",
   "id": "428899d2",
   "metadata": {},
   "source": [
    "## QuantEcon: Python Programming for Economics and Finance\n",
    "\n",
    "The website [QuantEcon: Python Programming for Economics and Finance](https://python-programming.quantecon.org/intro.html) teaches you Python by giving you information, examples, and possibilities to try for yourself.\n",
    "\n",
    "In particular, their chapters \"1. About Python\" through \"6. OOP I: Introduction to Object Oriented Programming\" (leaving out chapter 7, which goes into more detail on object-oriented programming); then, all chapters from 8 onwards which give an overview of Python's most important scientific packages."
   ]
  },
  {
   "attachments": {},
   "cell_type": "markdown",
   "id": "d66a09a9",
   "metadata": {},
   "source": [
    "## YouTube videos\n",
    "\n",
    "On YouTube there are many videos that teach Python. Try this [playlist: \"Python Programming Beginner Tutorials\"](https://www.youtube.com/playlist?list=PL-osiE80TeTskrapNbzXhwoFUiLCjGgY7)."
   ]
  },
  {
   "attachments": {},
   "cell_type": "markdown",
   "id": "2d46fd53",
   "metadata": {},
   "source": [
    "## Points to remember\n",
    "\n",
    "* We are working in notebooks. The notebook consists of cells. Some cells - like the one you are looking at right now - contain text. Others, further below, contain code. Cells with code can be executed: while your cursor is inside the cell, press `Shift + Return`.\n",
    "\n",
    "* Notebook cells in a notebook all run in the same Python interpreter. For example, assign 1 to a variable: `x = 1`. If you execute this in a notebook cell, all other notebook cells now have access to the variable `x`.\n",
    "\n",
    "* Within the notebook environment, just executing a command will show you the results: writing `1 + 1` in a cell and executing that cell will print `2`. Writing `x` in a cell will print `1` (if the variable x was previously assigned as above).\n",
    "\n",
    "* Use `**` for exponent, not `^`: e.g. `2**2` for $2^2$.\n",
    "\n",
    "* Careful: whitespace has meaning in Python - it is used to structure the code into separate logical blocks. For example, to delineate what code is inside an if-block (in this example y only becomes 2 if x > 1, whereas z = 3 is outside the if-block and always executed):\n",
    "```\n",
    "if x > 1:\n",
    "    y = 2\n",
    "z = 3\n",
    "```"
   ]
  },
  {
   "cell_type": "code",
   "execution_count": null,
   "id": "172f5d0c-ecb7-4c1e-a03e-9966f842784a",
   "metadata": {},
   "outputs": [],
   "source": []
  }
 ],
 "metadata": {
  "kernelspec": {
   "display_name": "Python 3 (ipykernel)",
   "language": "python",
   "name": "python3"
  },
  "language_info": {
   "codemirror_mode": {
    "name": "ipython",
    "version": 3
   },
   "file_extension": ".py",
   "mimetype": "text/x-python",
   "name": "python",
   "nbconvert_exporter": "python",
   "pygments_lexer": "ipython3",
   "version": "3.10.2"
  }
 },
 "nbformat": 4,
 "nbformat_minor": 5
}
