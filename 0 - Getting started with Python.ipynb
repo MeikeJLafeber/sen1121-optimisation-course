{
 "cells": [
  {
   "attachments": {},
   "cell_type": "markdown",
   "id": "cb70f61b-2a23-45ff-aa52-c77dfc590d5f",
   "metadata": {},
   "source": [
    "# Getting started: Python basics"
   ]
  },
  {
   "attachments": {},
   "cell_type": "markdown",
   "id": "cb4bef3b",
   "metadata": {},
   "source": [
    "This notebook is a quick introduction to Python. It is not meant to be a comprehensive introduction to Python, but rather a quick overview of the most important concepts that we will use in this course. If you already have basic Python skills, you can skip this notebook.\n",
    "\n",
    "If you are only familiar with MATLAB we recommend watching this [Python Introduction video](https://www.youtube.com/watch?v=ZDa-Z5JzLYM)."
   ]
  },
  {
   "attachments": {},
   "cell_type": "markdown",
   "id": "f964a4e3-2258-4b79-a341-aaa90cdc4e7d",
   "metadata": {},
   "source": [
    "## Python basics"
   ]
  },
  {
   "attachments": {},
   "cell_type": "markdown",
   "id": "d6122209-3c6b-44c9-bece-b1a658659099",
   "metadata": {},
   "source": [
    "Where to learn the basics of Python?\n",
    "\n",
    "There are a few options to learn the python basics for this course. In this course you can get away with using Python in a basic way more like a scientific calculator. However, some minimal use of control statements (especially \"for\" loops) will make some steps quicker and easier to do. The following options to learn Python are available:\n",
    "\n",
    "- Online Python learning website\n",
    "- YouTube tutorials\n",
    "\n",
    "Please, use the option you prefer."
   ]
  },
  {
   "attachments": {},
   "cell_type": "markdown",
   "id": "428899d2",
   "metadata": {},
   "source": [
    "### Online website\n",
    "\n",
    "The website [QuantEcon: Python Programming for Economics and Finance](https://python-programming.quantecon.org/intro.html) teaches you Python by giving you information, examples, and possibilities to try for yourself. In particular, their chapters \"1. About Python\" through \"6. OOP I: Introduction to Object Oriented Programming\" (leaving out chapter 7, which goes into more detail on object-oriented programming); then, all chapters from 8 onwards which give an overview of Python's most important scientific packages."
   ]
  },
  {
   "attachments": {},
   "cell_type": "markdown",
   "id": "d66a09a9",
   "metadata": {},
   "source": [
    "### YouTube videos\n",
    "\n",
    "On YouTube there are many videos that teach Python. I recommend to watch the following videos:\n",
    "\n",
    "- [Python: Classes and Instances](https://www.youtube.com/watch?v=ZDa-Z5JzLYM)\n",
    "- [Python: Integers and Floats](https://www.youtube.com/watch?v=khKv-8q7YmY)\n",
    "- [Python: List, Tuplets, and Sets](https://www.youtube.com/watch?v=W8KRzm-HUcc)\n",
    "- [Python: Conditionals and Booleans: if, elif and else](https://www.youtube.com/watch?v=DZwmZ8Usvnk)\n",
    "- [Python: Loops and Iterations](https://www.youtube.com/watch?v=6iF8Xb7Z3wQ)\n",
    "\n",
    "\n",
    "\n",
    "\n"
   ]
  },
  {
   "attachments": {},
   "cell_type": "markdown",
   "id": "a7c50479",
   "metadata": {},
   "source": [
    "### Jupyter notebook basics"
   ]
  },
  {
   "cell_type": "code",
   "execution_count": null,
   "id": "9a8c364f-be07-4da0-b50c-daa884026617",
   "metadata": {},
   "outputs": [],
   "source": []
  },
  {
   "attachments": {},
   "cell_type": "markdown",
   "id": "2d46fd53",
   "metadata": {},
   "source": [
    "* We are working in notebooks. The notebook consists of cells. Some cells - like the one you are looking at right now - contain text. Others, further below, contain code. Cells with code can be executed: while your cursor is inside the cell, press `Shift + Return`.\n",
    "* Assign something to a variable with \"=\", e.g.: `x = 1`\n",
    "\n",
    "* Within the notebook environment, just executing a command will show you the results: writing `1 + 1` in a cell and executing that cell will print `2`. Writing `x` in a cell will print `1` (if the variable x was previously assigned as above).\n",
    "\n",
    "* Careful: whitespace has meaning in Python - it is used to structure the code into separate logical blocks. For example, to delineate what code is inside an if-block (in this example y only becomes 2 if x > 1, whereas z = 3 is outside the if-block and always executed):\n",
    "```\n",
    "if x > 1:\n",
    "    y = 2\n",
    "z = 3\n",
    "```"
   ]
  }
 ],
 "metadata": {
  "kernelspec": {
   "display_name": "Python 3 (ipykernel)",
   "language": "python",
   "name": "python3"
  },
  "language_info": {
   "codemirror_mode": {
    "name": "ipython",
    "version": 3
   },
   "file_extension": ".py",
   "mimetype": "text/x-python",
   "name": "python",
   "nbconvert_exporter": "python",
   "pygments_lexer": "ipython3",
   "version": "3.10.2"
  }
 },
 "nbformat": 4,
 "nbformat_minor": 5
}
