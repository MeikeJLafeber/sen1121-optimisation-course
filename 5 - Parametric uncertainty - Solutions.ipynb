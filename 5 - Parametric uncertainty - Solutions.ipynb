{
 "cells": [
  {
   "cell_type": "markdown",
   "id": "1e760357-658b-47cd-a21e-1bf5654f95ae",
   "metadata": {},
   "source": [
    "If you are running this on Google Colab, you need to uncomment (remove the `#`) and execute the following lines to install the Pyomo package, the solver, and some helper tools. If you are running this on Binder or elsewhere (e.g. your own computer) you can ignore this."
   ]
  },
  {
   "cell_type": "code",
   "execution_count": 1,
   "id": "382df773-328b-4bea-8e9b-465c6f421fd9",
   "metadata": {},
   "outputs": [],
   "source": [
    "# !pip install pyomo==6.4.1\n",
    "# !apt install glpk-utils\n",
    "# !pip install \"git+https://github.com/sjpfenninger/sen1511.git#egg=sen1511utils&subdirectory=sen1511utils\""
   ]
  },
  {
   "cell_type": "code",
   "execution_count": 2,
   "id": "091ccb80-d2d8-45ed-a8dd-1545133f3dbd",
   "metadata": {},
   "outputs": [],
   "source": [
    "import pyomo.environ as pyo\n",
    "\n",
    "from sen1511utils import summarise_results"
   ]
  },
  {
   "cell_type": "markdown",
   "id": "aa4f609a-304a-4f43-a619-568f3ed5e4a9",
   "metadata": {},
   "source": [
    "Note:\n",
    "\n",
    "\n",
    "Tasks 1-3, 5-6, and 8 are solved on paper."
   ]
  },
  {
   "cell_type": "markdown",
   "id": "f907635d-523a-421b-92c7-d182c810c7d1",
   "metadata": {},
   "source": [
    "## Group tasks – robust optimisation"
   ]
  },
  {
   "cell_type": "markdown",
   "id": "207351b8-e080-4707-948a-b0725181ecec",
   "metadata": {},
   "source": [
    "### 4.\n",
    "\n",
    "Calculate the optimal consumption schedule for deferrable load by solving the robust optimisation problem from question 3 in Python/Pyomo."
   ]
  },
  {
   "cell_type": "code",
   "execution_count": null,
   "id": "ef723c36-ff9d-4c69-9c25-e54ec4cee04a",
   "metadata": {},
   "outputs": [],
   "source": []
  },
  {
   "cell_type": "markdown",
   "id": "e57c142c-a067-40d8-be2c-2004e5506bea",
   "metadata": {},
   "source": [
    "### 7.\n",
    "\n",
    "Calculate the optimal consumption schedule for the two different values of Γ: 0.8 and 1.2.\n",
    "\n",
    "What can you conclude about the sensitivity of the optimal schedule to Γ?"
   ]
  },
  {
   "cell_type": "code",
   "execution_count": null,
   "id": "7e43549f-2f27-4142-81b9-aab51ac977c9",
   "metadata": {},
   "outputs": [],
   "source": []
  },
  {
   "cell_type": "markdown",
   "id": "1e60dc73-c643-4dd8-9b06-9d8ee77617d6",
   "metadata": {},
   "source": [
    "## Group tasks – stochastic optimisation"
   ]
  },
  {
   "cell_type": "markdown",
   "id": "c90e0ecb-d516-4e92-b15d-ed4a1d8e798c",
   "metadata": {},
   "source": [
    "In the “Required reading – Robust optimisation example” we looked at the problem of an electricity consumer facing both uncertain electricity price for next week (24*7= 168hrs) and addressed this decision problem with robust optimisation.\n",
    "We now want to approach the same problem with stochastic programming. To do so we consider additionally that not only price, but also demand is uncertain. Both remain constant throughout the week. \n",
    "Scenario data for demand and price are provided in the table:\n",
    "\n",
    "|Scenario data for the consumer||||\n",
    "|:---|---:|---:|---:|\n",
    "| Scenario # | Probability (per unit) | Demand [MW]| Price [€/MWh]|\n",
    "|1|0.2|110|50|\n",
    "|2|0.6|100|46|\n",
    "|3|0.2|80 |44|\n",
    "\n",
    "The rest of the problem remains the same: the consumer has the possibility of buying up to 90 MW at €45/MWh throughout next week, by signing a bilateral contract before next week, i.e., before knowing the actual demand and pool price it has to face.\n",
    "\n",
    "The decision-making problem of this consumer can be formulated as a stochastic programming problem: the consumer has to decide how much to buy from the contract PC, and to decide his pool purchases for each of the three considered demand/price realizations (scenarios) P1, P2, and P3.\n",
    "\n",
    "The objective function is the expected cost faced by the consumer to supply its uncertain demand.\n"
   ]
  },
  {
   "cell_type": "markdown",
   "id": "2e157b68-2862-4ea6-9a6e-bc4986397d6b",
   "metadata": {},
   "source": [
    "### 9."
   ]
  },
  {
   "cell_type": "markdown",
   "id": "2267359a-f061-4ff2-916f-a22f3ba3b8c5",
   "metadata": {},
   "source": [
    "Solve the problem using Python/Pyomo and provide the objective function value and the optimal decisions."
   ]
  },
  {
   "cell_type": "code",
   "execution_count": 3,
   "id": "001de980-9648-4e21-a230-a88ab8c8a11a",
   "metadata": {},
   "outputs": [
    {
     "data": {
      "text/plain": [
       "{'Problem': [{'Name': 'unknown', 'Lower bound': 747936.0, 'Upper bound': 747936.0, 'Number of objectives': 1, 'Number of constraints': 9, 'Number of variables': 5, 'Number of nonzeros': 12, 'Sense': 'minimize'}], 'Solver': [{'Status': 'ok', 'Termination condition': 'optimal', 'Statistics': {'Branch and bound': {'Number of bounded subproblems': 0, 'Number of created subproblems': 0}}, 'Error rc': 0, 'Time': 0.007876157760620117}], 'Solution': [OrderedDict([('number of solutions', 0), ('number of solutions displayed', 0)])]}"
      ]
     },
     "execution_count": 3,
     "metadata": {},
     "output_type": "execute_result"
    }
   ],
   "source": [
    "model = pyo.ConcreteModel(name = \"Stochastic Model\")\n",
    "model.dual = pyo.Suffix(direction=pyo.Suffix.IMPORT)\n",
    "\n",
    "##\n",
    "# 1. Decision variables\n",
    "##\n",
    "\n",
    "model.Pc = pyo.Var(domain=pyo.NonNegativeReals)\n",
    "model.P1 = pyo.Var(domain=pyo.NonNegativeReals)\n",
    "model.P2 = pyo.Var(domain=pyo.NonNegativeReals)\n",
    "model.P3 = pyo.Var(domain=pyo.NonNegativeReals)\n",
    "\n",
    "##\n",
    "# 2. Objective function\n",
    "##\n",
    "\n",
    "model.profit = pyo.Objective(\n",
    "    expr = (168 * (45 * model.Pc + 0.2 * 50 * model.P1 + 0.6 * 46 * model.P2 + 0.2 * 44 * model.P3)),\n",
    "    sense = pyo.minimize,\n",
    ")\n",
    "\n",
    "##\n",
    "# 3. Constraints\n",
    "##\n",
    "\n",
    "model.demand1 = pyo.Constraint(expr = model.Pc + model.P1 >=  110)\n",
    "model.demand2= pyo.Constraint(expr = model.Pc + model.P2 >=  100)\n",
    "model.demand3 = pyo.Constraint(expr = model.Pc + model.P3 >=  80)\n",
    "\n",
    "model.LowerLimitc = pyo.Constraint(expr = model.Pc >= 0)\n",
    "model.LowerLimit1 = pyo.Constraint(expr = model.P1 >= 0)\n",
    "model.LowerLimit2 = pyo.Constraint(expr = model.P2 >= 0)\n",
    "model.LowerLimit3 = pyo.Constraint(expr = model.P3 >= 0)\n",
    "\n",
    "model.UpperLimit2 = pyo.Constraint(expr = model.Pc <= 90)\n",
    "\n",
    "# Solve the problem\n",
    "solver = pyo.SolverFactory('glpk')\n",
    "solver.solve(model)\n"
   ]
  },
  {
   "cell_type": "code",
   "execution_count": 4,
   "id": "5ddd2016-18f6-4ff4-a1f9-c8ff90ec0c91",
   "metadata": {},
   "outputs": [
    {
     "data": {
      "text/html": [
       "<style type=\"text/css\">\n",
       "</style>\n",
       "<table id=\"T_40c0f\" style='display:inline'>\n",
       "  <caption>Objective</caption>\n",
       "  <thead>\n",
       "    <tr>\n",
       "      <th class=\"blank level0\" >&nbsp;</th>\n",
       "      <th id=\"T_40c0f_level0_col0\" class=\"col_heading level0 col0\" >Name</th>\n",
       "      <th id=\"T_40c0f_level0_col1\" class=\"col_heading level0 col1\" >Value</th>\n",
       "    </tr>\n",
       "  </thead>\n",
       "  <tbody>\n",
       "    <tr>\n",
       "      <th id=\"T_40c0f_level0_row0\" class=\"row_heading level0 row0\" >0</th>\n",
       "      <td id=\"T_40c0f_row0_col0\" class=\"data row0 col0\" >profit</td>\n",
       "      <td id=\"T_40c0f_row0_col1\" class=\"data row0 col1\" >747936.000000</td>\n",
       "    </tr>\n",
       "  </tbody>\n",
       "</table>\n",
       "   <style type=\"text/css\">\n",
       "</style>\n",
       "<table id=\"T_a3c8a\" style='display:inline'>\n",
       "  <caption>Variables</caption>\n",
       "  <thead>\n",
       "    <tr>\n",
       "      <th class=\"blank level0\" >&nbsp;</th>\n",
       "      <th id=\"T_a3c8a_level0_col0\" class=\"col_heading level0 col0\" >Name</th>\n",
       "      <th id=\"T_a3c8a_level0_col1\" class=\"col_heading level0 col1\" >Value</th>\n",
       "    </tr>\n",
       "  </thead>\n",
       "  <tbody>\n",
       "    <tr>\n",
       "      <th id=\"T_a3c8a_level0_row0\" class=\"row_heading level0 row0\" >0</th>\n",
       "      <td id=\"T_a3c8a_row0_col0\" class=\"data row0 col0\" >Pc</td>\n",
       "      <td id=\"T_a3c8a_row0_col1\" class=\"data row0 col1\" >80.000000</td>\n",
       "    </tr>\n",
       "    <tr>\n",
       "      <th id=\"T_a3c8a_level0_row1\" class=\"row_heading level0 row1\" >1</th>\n",
       "      <td id=\"T_a3c8a_row1_col0\" class=\"data row1 col0\" >P1</td>\n",
       "      <td id=\"T_a3c8a_row1_col1\" class=\"data row1 col1\" >30.000000</td>\n",
       "    </tr>\n",
       "    <tr>\n",
       "      <th id=\"T_a3c8a_level0_row2\" class=\"row_heading level0 row2\" >2</th>\n",
       "      <td id=\"T_a3c8a_row2_col0\" class=\"data row2 col0\" >P2</td>\n",
       "      <td id=\"T_a3c8a_row2_col1\" class=\"data row2 col1\" >20.000000</td>\n",
       "    </tr>\n",
       "    <tr>\n",
       "      <th id=\"T_a3c8a_level0_row3\" class=\"row_heading level0 row3\" >3</th>\n",
       "      <td id=\"T_a3c8a_row3_col0\" class=\"data row3 col0\" >P3</td>\n",
       "      <td id=\"T_a3c8a_row3_col1\" class=\"data row3 col1\" >0.000000</td>\n",
       "    </tr>\n",
       "  </tbody>\n",
       "</table>\n",
       "   <style type=\"text/css\">\n",
       "</style>\n",
       "<table id=\"T_79a2a\" style='display:inline'>\n",
       "  <caption>Constraints</caption>\n",
       "  <thead>\n",
       "    <tr>\n",
       "      <th class=\"blank level0\" >&nbsp;</th>\n",
       "      <th id=\"T_79a2a_level0_col0\" class=\"col_heading level0 col0\" >Name</th>\n",
       "      <th id=\"T_79a2a_level0_col1\" class=\"col_heading level0 col1\" >Expression</th>\n",
       "      <th id=\"T_79a2a_level0_col2\" class=\"col_heading level0 col2\" >Value</th>\n",
       "      <th id=\"T_79a2a_level0_col3\" class=\"col_heading level0 col3\" >Shadow price</th>\n",
       "      <th id=\"T_79a2a_level0_col4\" class=\"col_heading level0 col4\" >Binding</th>\n",
       "    </tr>\n",
       "  </thead>\n",
       "  <tbody>\n",
       "    <tr>\n",
       "      <th id=\"T_79a2a_level0_row0\" class=\"row_heading level0 row0\" >0</th>\n",
       "      <td id=\"T_79a2a_row0_col0\" class=\"data row0 col0\" >demand1</td>\n",
       "      <td id=\"T_79a2a_row0_col1\" class=\"data row0 col1\" >110  <=  Pc + P1</td>\n",
       "      <td id=\"T_79a2a_row0_col2\" class=\"data row0 col2\" >110.000000</td>\n",
       "      <td id=\"T_79a2a_row0_col3\" class=\"data row0 col3\" >1680.000000</td>\n",
       "      <td id=\"T_79a2a_row0_col4\" class=\"data row0 col4\" >True</td>\n",
       "    </tr>\n",
       "    <tr>\n",
       "      <th id=\"T_79a2a_level0_row1\" class=\"row_heading level0 row1\" >1</th>\n",
       "      <td id=\"T_79a2a_row1_col0\" class=\"data row1 col0\" >demand2</td>\n",
       "      <td id=\"T_79a2a_row1_col1\" class=\"data row1 col1\" >100  <=  Pc + P2</td>\n",
       "      <td id=\"T_79a2a_row1_col2\" class=\"data row1 col2\" >100.000000</td>\n",
       "      <td id=\"T_79a2a_row1_col3\" class=\"data row1 col3\" >4636.800000</td>\n",
       "      <td id=\"T_79a2a_row1_col4\" class=\"data row1 col4\" >True</td>\n",
       "    </tr>\n",
       "    <tr>\n",
       "      <th id=\"T_79a2a_level0_row2\" class=\"row_heading level0 row2\" >2</th>\n",
       "      <td id=\"T_79a2a_row2_col0\" class=\"data row2 col0\" >demand3</td>\n",
       "      <td id=\"T_79a2a_row2_col1\" class=\"data row2 col1\" >80  <=  Pc + P3</td>\n",
       "      <td id=\"T_79a2a_row2_col2\" class=\"data row2 col2\" >80.000000</td>\n",
       "      <td id=\"T_79a2a_row2_col3\" class=\"data row2 col3\" >1243.200000</td>\n",
       "      <td id=\"T_79a2a_row2_col4\" class=\"data row2 col4\" >True</td>\n",
       "    </tr>\n",
       "    <tr>\n",
       "      <th id=\"T_79a2a_level0_row3\" class=\"row_heading level0 row3\" >3</th>\n",
       "      <td id=\"T_79a2a_row3_col0\" class=\"data row3 col0\" >LowerLimitc</td>\n",
       "      <td id=\"T_79a2a_row3_col1\" class=\"data row3 col1\" >0  <=  Pc</td>\n",
       "      <td id=\"T_79a2a_row3_col2\" class=\"data row3 col2\" >80.000000</td>\n",
       "      <td id=\"T_79a2a_row3_col3\" class=\"data row3 col3\" >0.000000</td>\n",
       "      <td id=\"T_79a2a_row3_col4\" class=\"data row3 col4\" >False</td>\n",
       "    </tr>\n",
       "    <tr>\n",
       "      <th id=\"T_79a2a_level0_row4\" class=\"row_heading level0 row4\" >4</th>\n",
       "      <td id=\"T_79a2a_row4_col0\" class=\"data row4 col0\" >LowerLimit1</td>\n",
       "      <td id=\"T_79a2a_row4_col1\" class=\"data row4 col1\" >0  <=  P1</td>\n",
       "      <td id=\"T_79a2a_row4_col2\" class=\"data row4 col2\" >30.000000</td>\n",
       "      <td id=\"T_79a2a_row4_col3\" class=\"data row4 col3\" >0.000000</td>\n",
       "      <td id=\"T_79a2a_row4_col4\" class=\"data row4 col4\" >False</td>\n",
       "    </tr>\n",
       "    <tr>\n",
       "      <th id=\"T_79a2a_level0_row5\" class=\"row_heading level0 row5\" >5</th>\n",
       "      <td id=\"T_79a2a_row5_col0\" class=\"data row5 col0\" >LowerLimit2</td>\n",
       "      <td id=\"T_79a2a_row5_col1\" class=\"data row5 col1\" >0  <=  P2</td>\n",
       "      <td id=\"T_79a2a_row5_col2\" class=\"data row5 col2\" >20.000000</td>\n",
       "      <td id=\"T_79a2a_row5_col3\" class=\"data row5 col3\" >0.000000</td>\n",
       "      <td id=\"T_79a2a_row5_col4\" class=\"data row5 col4\" >False</td>\n",
       "    </tr>\n",
       "    <tr>\n",
       "      <th id=\"T_79a2a_level0_row6\" class=\"row_heading level0 row6\" >6</th>\n",
       "      <td id=\"T_79a2a_row6_col0\" class=\"data row6 col0\" >LowerLimit3</td>\n",
       "      <td id=\"T_79a2a_row6_col1\" class=\"data row6 col1\" >0  <=  P3</td>\n",
       "      <td id=\"T_79a2a_row6_col2\" class=\"data row6 col2\" >0.000000</td>\n",
       "      <td id=\"T_79a2a_row6_col3\" class=\"data row6 col3\" >0.000000</td>\n",
       "      <td id=\"T_79a2a_row6_col4\" class=\"data row6 col4\" >False</td>\n",
       "    </tr>\n",
       "    <tr>\n",
       "      <th id=\"T_79a2a_level0_row7\" class=\"row_heading level0 row7\" >7</th>\n",
       "      <td id=\"T_79a2a_row7_col0\" class=\"data row7 col0\" >UpperLimit2</td>\n",
       "      <td id=\"T_79a2a_row7_col1\" class=\"data row7 col1\" >Pc  <=  90</td>\n",
       "      <td id=\"T_79a2a_row7_col2\" class=\"data row7 col2\" >80.000000</td>\n",
       "      <td id=\"T_79a2a_row7_col3\" class=\"data row7 col3\" >0.000000</td>\n",
       "      <td id=\"T_79a2a_row7_col4\" class=\"data row7 col4\" >False</td>\n",
       "    </tr>\n",
       "  </tbody>\n",
       "</table>\n",
       "   "
      ],
      "text/plain": [
       "<IPython.core.display.HTML object>"
      ]
     },
     "metadata": {},
     "output_type": "display_data"
    }
   ],
   "source": [
    "summarise_results(model)"
   ]
  },
  {
   "cell_type": "code",
   "execution_count": null,
   "id": "683186e3-c690-4bdb-9f1a-df906fb3c95e",
   "metadata": {},
   "outputs": [],
   "source": []
  }
 ],
 "metadata": {
  "kernelspec": {
   "display_name": "Python [conda env:sen1511]",
   "language": "python",
   "name": "conda-env-sen1511-py"
  },
  "language_info": {
   "codemirror_mode": {
    "name": "ipython",
    "version": 3
   },
   "file_extension": ".py",
   "mimetype": "text/x-python",
   "name": "python",
   "nbconvert_exporter": "python",
   "pygments_lexer": "ipython3",
   "version": "3.10.5"
  }
 },
 "nbformat": 4,
 "nbformat_minor": 5
}
