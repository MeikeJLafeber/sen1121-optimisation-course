{
 "cells": [
  {
   "attachments": {},
   "cell_type": "markdown",
   "id": "af0430fd",
   "metadata": {},
   "source": [
    "# Assignment 1 - Linear Programming (LP)"
   ]
  },
  {
   "attachments": {},
   "cell_type": "markdown",
   "id": "c96b40a3",
   "metadata": {},
   "source": [
    "This assignment is structured in two blocks: individual tasks and group tasks. The individual tasks are made of simple preliminary exercises that should be done individually before the instruction session. These are necessary/helpful for completing the group tasks."
   ]
  },
  {
   "attachments": {},
   "cell_type": "markdown",
   "id": "37cb64fc",
   "metadata": {},
   "source": [
    "## Individual tasks"
   ]
  },
  {
   "attachments": {},
   "cell_type": "markdown",
   "id": "82390be4",
   "metadata": {},
   "source": [
    "### Exercise 1\n",
    "Describe what Economic Dispatch (ED) is and list some typical constraints for ED treated as Linear Programming (LP) problem, on paper."
   ]
  },
  {
   "attachments": {},
   "cell_type": "markdown",
   "id": "725888b1",
   "metadata": {},
   "source": [
    "### Exercise 2\n",
    "\n",
    "Consider the following optimization problem. \n",
    "$$\n",
    "𝑀𝑎𝑥 \\quad 𝑓(𝑥_1,𝑥_2)=−𝑥_1−𝑥_2 \\\\\n",
    "𝑠.𝑡.    −2𝑥_1−𝑥_2≤4 \\\\\n",
    "−2𝑥_1+4𝑥_2≤−8 \\\\\n",
    "−𝑥_1+3𝑥_2≤−7 \\\\\n",
    "𝑥_1,𝑥_2≥0 $$\n",
    "\n",
    "Formulate the dual problem with the help of the duality table below, on paper."
   ]
  },
  {
   "attachments": {},
   "cell_type": "markdown",
   "id": "fff1907c",
   "metadata": {},
   "source": [
    "| **Primal Problem (or dual problem)**             | **Dual problem(or primal problem)**              |\n",
    "|------------------------------------------------------|------------------------------------------------------|\n",
    "| Maximise                                             | Minimise                                             |\n",
    "| **Constraints:**<br> ≤  form<br> =  form<br> ≥  form | **Variables:**<br>≥ 0<br>Unconstrained<br>≤ 0        |\n",
    "| **Variables:**<br> ≥ 0 <br>Unconstrained<br> ≤ 0     | **Constraints:**<br> ≤  form<br> =  form<br> ≥  form |"
   ]
  },
  {
   "attachments": {},
   "cell_type": "markdown",
   "id": "c7adafab",
   "metadata": {},
   "source": [
    "### Exercise 3"
   ]
  },
  {
   "attachments": {},
   "cell_type": "markdown",
   "id": "1e32da00",
   "metadata": {},
   "source": [
    "**(a)** Solve the following LP problem (called further primal problem) graphically. (without Python); include in your graph contour lines (isolines) of the objective function. Specify the optimal values for the variables and the objective function.\n",
    "$$ 𝑀𝑎𝑥 \\quad 𝑓(𝑥_1,𝑥_2)=−𝑥_1+5𝑥_2 \\\\\n",
    "𝑠.𝑡. \\: \\: 𝑥_1+𝑥_2≤5 \\\\\n",
    "3𝑥_1−4𝑥_2≥8 \\\\\n",
    "𝑥_1,𝑥2≥0 $$ \\\\\n",
    "\n",
    "**(b)** Formulate a dual problem for the primary problem presented in 3(a) and determine which constraints are active (binding) in the dual problem.\n",
    "\n",
    "**(c)** Calculate the shadow price for the active constraints defined in (b) for the dual problem. Answer this question without using Python"
   ]
  },
  {
   "cell_type": "markdown",
   "id": "8cf60147-3202-444c-97d2-e2a071e117af",
   "metadata": {},
   "source": [
    "## Group tasks"
   ]
  },
  {
   "cell_type": "markdown",
   "id": "7eeb9ad4-e766-42f8-9841-53b034378dfd",
   "metadata": {},
   "source": []
  }
 ],
 "metadata": {
  "kernelspec": {
   "display_name": "Python [conda env:sen1511]",
   "language": "python",
   "name": "conda-env-sen1511-py"
  },
  "language_info": {
   "codemirror_mode": {
    "name": "ipython",
    "version": 3
   },
   "file_extension": ".py",
   "mimetype": "text/x-python",
   "name": "python",
   "nbconvert_exporter": "python",
   "pygments_lexer": "ipython3",
   "version": "3.10.5"
  }
 },
 "nbformat": 4,
 "nbformat_minor": 5
}
