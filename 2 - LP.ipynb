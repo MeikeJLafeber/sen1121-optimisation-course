{
 "cells": [
  {
   "attachments": {},
   "cell_type": "markdown",
   "id": "af0430fd",
   "metadata": {},
   "source": [
    "# Assignment 1 - Linear Programming (LP)"
   ]
  },
  {
   "attachments": {},
   "cell_type": "markdown",
   "id": "c96b40a3",
   "metadata": {},
   "source": [
    "This assignment is structured in two blocks: individual tasks and group tasks. The individual tasks are made of simple preliminary exercises that should be done individually before the instruction session. These are necessary/helpful for completing the group tasks. The group tasks involve the use of Python/Pyomo and consist of a complete optimization problem, which will be solved during the instructions."
   ]
  },
  {
   "attachments": {},
   "cell_type": "markdown",
   "id": "37cb64fc",
   "metadata": {},
   "source": [
    "## Individual Tasks"
   ]
  },
  {
   "attachments": {},
   "cell_type": "markdown",
   "id": "725888b1",
   "metadata": {},
   "source": [
    "### Exercise 1\n",
    "\n",
    "Consider the following optimization problem. \n",
    "$$𝑀𝑎𝑥 \\quad 𝑓(𝑥_1,𝑥_2)=−𝑥_1−𝑥_2$$\n",
    "$$𝑠.𝑡. \\quad −2𝑥_1−𝑥_2≤4$$\n",
    "$$−2𝑥_1+4𝑥_2≤−8$$\n",
    "$$−𝑥_1+3𝑥_2≤−7$$\n",
    "$$𝑥_1,𝑥_2≥0$$\n",
    "\n",
    "Formulate the dual problem with the help of the duality table below, on paper."
   ]
  },
  {
   "attachments": {},
   "cell_type": "markdown",
   "id": "fff1907c",
   "metadata": {},
   "source": [
    "| **Primal Problem (or dual problem)**             | **Dual problem(or primal problem)**              |\n",
    "|------------------------------------------------------|------------------------------------------------------|\n",
    "| Maximise                                             | Minimise                                             |\n",
    "| **Constraints:**<br> ≤  form<br> =  form<br> ≥  form | **Variables:**<br>≥ 0<br>Unconstrained<br>≤ 0        |\n",
    "| **Variables:**<br> ≥ 0 <br>Unconstrained<br> ≤ 0     | **Constraints:**<br> ≤  form<br> =  form<br> ≥  form |"
   ]
  },
  {
   "attachments": {},
   "cell_type": "markdown",
   "id": "c7adafab",
   "metadata": {},
   "source": [
    "### Exercise 2"
   ]
  },
  {
   "attachments": {},
   "cell_type": "markdown",
   "id": "1e32da00",
   "metadata": {},
   "source": [
    "**(a)** Solve the following LP problem (called further primal problem) graphically. (without Python); include in your graph contour lines (isolines) of the objective function. Specify the optimal values for the variables and the objective function.\n",
    "$$ 𝑀𝑎𝑥 \\quad 𝑓(𝑥_1,𝑥_2)=−𝑥_1+5𝑥_2$$\n",
    "\n",
    "$$𝑠.𝑡. \\: \\: 𝑥_1+𝑥_2≤5 \\\\x\n",
    "3𝑥_1−4𝑥_2≥8 \\\\\n",
    "𝑥_1,𝑥2≥0 $$\n",
    "\n",
    "**(b)** Formulate a dual problem for the primary problem presented in 3(a) and determine which constraints are active (binding) in the dual problem.\n",
    "\n",
    "**(c)** Calculate the shadow price for the active constraints defined in (b) for the dual problem. Answer this question without using Python"
   ]
  },
  {
   "attachments": {},
   "cell_type": "markdown",
   "id": "cebbbefd-95ee-46cd-b012-ef0e13d8a14a",
   "metadata": {},
   "source": [
    "## Group Tasks"
   ]
  },
  {
   "attachments": {},
   "cell_type": "markdown",
   "id": "6efc011b",
   "metadata": {},
   "source": [
    "The group tasks involve the use of Python/Pyomo and consist of a complete optimization problem, which will be solved during the instructions. If you are running this on Google Colab, you need to uncomment (remove the `#`) and execute the following lines to install the Pyomo package, the solver, and some helper tools. If you are running this on Binder or elsewhere (e.g. your own computer) you can ignore this."
   ]
  },
  {
   "cell_type": "code",
   "execution_count": null,
   "id": "d116ce81",
   "metadata": {},
   "outputs": [],
   "source": [
    "# !pip install pyomo==6.4.1\n",
    "# !apt install glpk-utils\n",
    "# !pip install \"git+https://github.com/sjpfenninger/optimisation-course.git#egg=optimutils&subdirectory=optimutils\""
   ]
  },
  {
   "cell_type": "code",
   "execution_count": null,
   "id": "59c4d69b",
   "metadata": {},
   "outputs": [],
   "source": [
    "import pyomo.environ as pyo\n",
    "from optimutils import summarise_results"
   ]
  },
  {
   "attachments": {},
   "cell_type": "markdown",
   "id": "c6d06383",
   "metadata": {},
   "source": [
    "### Exercise 3"
   ]
  },
  {
   "attachments": {},
   "cell_type": "markdown",
   "id": "c141aebc-ef45-416a-b5c7-5a3f9dac0c64",
   "metadata": {},
   "source": [
    "Consider two generating units supplying at least the system demand P_total,D=650 MW for the coming hour (extra power above the system demand will be used for storage, which is assumed to be unlimited). The unit cost function is characterized by the parameters provided in the table below:\n",
    "\n",
    "| Unit | Generation costs (EUR/MWh) | P_min, G (MW) | P_max, G (MW) |\n",
    "|:---|---:|---:|---:|\n",
    "| 1 | 35 | 0 | 600 |\n",
    "| 2 | 55 | 100 | 300 |\n"
   ]
  },
  {
   "attachments": {},
   "cell_type": "markdown",
   "id": "5dc40505",
   "metadata": {},
   "source": [
    "(a) Formulate the above-mentioned economic dispatch problem as a linear programming model by specifying:<br>\n",
    "<br>\n",
    "&nbsp;&nbsp;&nbsp;&nbsp;(i) all decision variables<br>\n",
    "<br>\n",
    "&nbsp;&nbsp;&nbsp;&nbsp;(ii) the objective function<br>\n",
    "<br>\n",
    "&nbsp;&nbsp;&nbsp;&nbsp;(iii) relevant constraints\n"
   ]
  },
  {
   "cell_type": "code",
   "execution_count": null,
   "id": "6a23de1b",
   "metadata": {},
   "outputs": [],
   "source": []
  },
  {
   "attachments": {},
   "cell_type": "markdown",
   "id": "3c78914f",
   "metadata": {},
   "source": [
    "(b) Solve the described problem graphically (without Python); include in your graph contour lines (isolines) of the objective function. Specify the optimal values for the variables and the objective function."
   ]
  },
  {
   "attachments": {},
   "cell_type": "markdown",
   "id": "ab218bdf",
   "metadata": {},
   "source": [
    "(c) What can you say about the sensitivity of the presented problem? Answer this question without using Python by calculating shadow prices."
   ]
  },
  {
   "attachments": {},
   "cell_type": "markdown",
   "id": "a259d7c6-9950-4adf-b69c-f265fdb66cc3",
   "metadata": {},
   "source": [
    "(d) Solve the problem in Python and specifically examine the shadow prices delivered by Pyomo for the optimal solution. Compare your solutions here with your answers above."
   ]
  },
  {
   "cell_type": "code",
   "execution_count": null,
   "id": "ecf0360f",
   "metadata": {},
   "outputs": [],
   "source": []
  },
  {
   "attachments": {},
   "cell_type": "markdown",
   "id": "10984353-d2e1-4f99-a129-8e6a37d1c6c6",
   "metadata": {},
   "source": [
    "(e) Formulate and solve the dual problem in Python to calculate the shadow prices yourself. What do you observe regarding the solution of the primal and the dual problem?"
   ]
  },
  {
   "cell_type": "code",
   "execution_count": null,
   "id": "251cffb4",
   "metadata": {},
   "outputs": [],
   "source": []
  },
  {
   "attachments": {},
   "cell_type": "markdown",
   "id": "6d1b32b2-5049-4aaf-9125-24baaf13a429",
   "metadata": {},
   "source": [
    "### Exercise 4"
   ]
  },
  {
   "attachments": {},
   "cell_type": "markdown",
   "id": "f2fe52e7-cf83-4bf0-86c7-eae513957130",
   "metadata": {},
   "source": [
    "The  U.S.  Environmental  Protection  Agency  has  proposed  its  first-ever  limit  on  carbon  dioxide emissions from new power plants. The EPA’s new regulations will limit carbon dioxide  emissions from future fossil fuel power plants to 400 kg of CO2 per megawatt hour. \\\n",
    "Power Company PC has  in three different control areas generating plants of type A and generating plants  of  type  B,  and  is  finishing  construction  of  two  new  efficient  gas-fired  power  plants,  one  in Control Area 1 and one in Control Area 2 (see Table below with the generating costs and emissions). They will be operational before winter 2016. \n",
    "\n",
    "\n",
    "The power company cannot emit more than 1.400.000kg CO2 per hour without high penalties. This limit will not change after putting new power plants into operation. \n",
    "The expectation of Coalition for Clean Energy is that the new CO2emission limits will drive up energy prices.  To  what  extend  do  you  agree  with  this  statement  on  the basis  of  the  situation  of  the  power company PC? To answer this question investigate an economic dispatch of the company by taking into account only the old generation plants being already in operation. \n",
    "The power company is supplying expected demand of 1500 MW next hour for the three control area together. No plant should be operating at less than 10% of its maximal capacity."
   ]
  },
  {
   "attachments": {},
   "cell_type": "markdown",
   "id": "43805e31",
   "metadata": {},
   "source": [
    "| Generating costs [$/MWh] \t|                                                           \t| Control Area<br>CA1 \t| Control Area<br>CA2 \t| Control Area<br>CA3 \t| Max Capacity <br> [MW]              \t| CO2 pollution<br>[kg/MWh] \t|\n",
    "|--------------------------\t|-----------------------------------------------------------\t|---------------------\t|---------------------\t|---------------------\t|--------------------------------\t|---------------------------\t|\n",
    "|                          \t| Plant type A <br>(coal-fired) <br>OLD                     \t| 30                  \t| 32                  \t| 35                  \t| in CA1,CA2: 500<br>in CA3: 400 \t| 1200                      \t|\n",
    "|                          \t| Plant type B<br>(oil-based) <br>OLD                       \t| 80                  \t| 75                  \t| 72                  \t| in CA1,CA2: 40<br>in CA3: 500  \t| 800                       \t|\n",
    "|                          \t| Plant type C<br>(gas-fired; <br>underconstruction)<br>NEW \t| 90                  \t| 85                  \t| -                   \t| in CA1: 700<br>in CA2: 600     \t| 400                       \t|"
   ]
  },
  {
   "attachments": {},
   "cell_type": "markdown",
   "id": "bcb8bb76",
   "metadata": {},
   "source": [
    "**(a)** First, we consider the situation with only the two existing plant types A and B. How should the dispatch of these two plants type A and B be done at minimal cost? What are then the production costs? To answer both questions, formulate a linear program, i.e: <br>\n",
    "<br>\n",
    "&nbsp;&nbsp;&nbsp;&nbsp;(i) Specify all decision variables<br>\n",
    "<br>\n",
    "&nbsp;&nbsp;&nbsp;&nbsp;(ii) Formulate constraints<br>\n",
    "<br>\n",
    "&nbsp;&nbsp;&nbsp;&nbsp;(iii) Define the objective function\n"
   ]
  },
  {
   "cell_type": "code",
   "execution_count": null,
   "id": "640720ae-c92d-4644-8d6f-e4d2a1073b64",
   "metadata": {},
   "outputs": [],
   "source": []
  },
  {
   "attachments": {},
   "cell_type": "markdown",
   "id": "742f1755-c7d0-44e3-b346-98fbc56ebb7d",
   "metadata": {},
   "source": [
    "**(b)** Now, we include consideration of the new plant type C. How should the dispatch of all three plants —type A, B and new type C —be done at minimal cost? What are then the production costs? (implement and solve the problem in Python to answer this) "
   ]
  },
  {
   "cell_type": "code",
   "execution_count": null,
   "id": "02a72610-974c-4f70-a32b-e1ba95dd6e24",
   "metadata": {},
   "outputs": [],
   "source": []
  },
  {
   "attachments": {},
   "cell_type": "markdown",
   "id": "66a74f6b",
   "metadata": {},
   "source": [
    "**(c)** Specify which constraints are active (binding) in the optimum (5b). What does it mean?"
   ]
  },
  {
   "attachments": {},
   "cell_type": "markdown",
   "id": "039f4ae8",
   "metadata": {},
   "source": [
    "**(d)** What are the shadow prices with respect to the demand constraint and emission constraint for (5b)?"
   ]
  },
  {
   "attachments": {},
   "cell_type": "markdown",
   "id": "04db492b",
   "metadata": {},
   "source": [
    "**(e)** To what extent do you agree with the statement “The expectation is that the new CO2 emission limits will drive up energy prices” on the basis of the situation of power company PC?"
   ]
  }
 ],
 "metadata": {
  "kernelspec": {
   "display_name": "Python [conda env:sen1511]",
   "language": "python",
   "name": "conda-env-sen1511-py"
  },
  "language_info": {
   "codemirror_mode": {
    "name": "ipython",
    "version": 3
   },
   "file_extension": ".py",
   "mimetype": "text/x-python",
   "name": "python",
   "nbconvert_exporter": "python",
   "pygments_lexer": "ipython3",
   "version": "3.10.5"
  }
 },
 "nbformat": 4,
 "nbformat_minor": 5
}
