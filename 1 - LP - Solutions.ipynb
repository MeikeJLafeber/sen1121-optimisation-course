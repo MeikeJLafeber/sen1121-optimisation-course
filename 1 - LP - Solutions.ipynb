{
 "cells": [
  {
   "attachments": {},
   "cell_type": "markdown",
   "id": "af0430fd",
   "metadata": {},
   "source": [
    "# Assignment 1 - Linear Programming (LP)"
   ]
  },
  {
   "attachments": {},
   "cell_type": "markdown",
   "id": "c96b40a3",
   "metadata": {},
   "source": [
    "This assignment is structured in two blocks: individual tasks and group tasks. The individual tasks are made of simple preliminary exercises that should be done individually before the instruction session. These are necessary/helpful for completing the group tasks. The group tasks involve the use of Python/Pyomo and consist of a complete optimization problem, which will be solved during the instructions.\n"
   ]
  },
  {
   "attachments": {},
   "cell_type": "markdown",
   "id": "37cb64fc",
   "metadata": {},
   "source": [
    "## Individual Tasks"
   ]
  },
  {
   "attachments": {},
   "cell_type": "markdown",
   "id": "82390be4",
   "metadata": {},
   "source": [
    "### Exercise 1\n",
    "Describe what Economic Dispatch (ED) is and list some typical constraints for ED treated as Linear Programming (LP) problem, on paper."
   ]
  },
  {
   "attachments": {},
   "cell_type": "markdown",
   "id": "17cbfa7f",
   "metadata": {},
   "source": [
    "<div style=\"color:red\">\n",
    "\n",
    "**Economic dispatch** includes determining for the set of generators that are providing power at anypoint in time their output levels by minimizing total production cost, subject to the constraints as the power balance and the generation limits. Solving the economic dispatch problem requires (non-)linear optimisation.\n",
    "</div>"
   ]
  },
  {
   "attachments": {},
   "cell_type": "markdown",
   "id": "725888b1",
   "metadata": {},
   "source": [
    "### Exercise 2\n",
    "\n",
    "Consider the following optimization problem. \n",
    "$$\n",
    "𝑀𝑎𝑥 𝑓(𝑥_1,𝑥_2)=−𝑥_1−𝑥_2 \\\\\n",
    "𝑠.𝑡.    −2𝑥_1−𝑥_2≤4 \\\\\n",
    "−2𝑥_1+4𝑥_2≤−8 \\\\\n",
    "−𝑥_1+3𝑥_2≤−7 \\\\\n",
    "𝑥_1,𝑥_2≥0 $$\n",
    "\n",
    "Formulate the dual problem with the help of the duality table below, on paper."
   ]
  },
  {
   "attachments": {},
   "cell_type": "markdown",
   "id": "fff1907c",
   "metadata": {},
   "source": [
    "| **Primal Problem (or dual problem)**             | **Dual problem(or primal problem)**              |\n",
    "|------------------------------------------------------|------------------------------------------------------|\n",
    "| Maximise                                             | Minimise                                             |\n",
    "| **Constraints:**<br> ≤  form<br> =  form<br> ≥  form | **Variables:**<br>≥ 0<br>Unconstrained<br>≤ 0        |\n",
    "| **Variables:**<br> ≥ 0 <br>Unconstrained<br> ≤ 0     | **Constraints:**<br> ≤  form<br> =  form<br> ≥  form |"
   ]
  },
  {
   "attachments": {},
   "cell_type": "markdown",
   "id": "6db9f418",
   "metadata": {},
   "source": [
    "<div style=\"color:red\">\n",
    "\n",
    "- Number of decision variables of the dual problem: 3<br>\n",
    "- Number of constraints of the dual problem: 2<br>\n",
    "\n",
    "$$ \n",
    "𝑀𝑖𝑛 𝐽(μ1,μ2,μ3)=4μ1−8μ2−7μ3  \\\\\n",
    "𝑠.𝑡.    − 2μ1−2μ2−μ3≥−1  \\\\\n",
    "        −μ1+ 4μ2+ 3μ3≥−1  \\\\\n",
    "        μ1,μ2,μ3≥0 $$\n",
    "</div>"
   ]
  },
  {
   "attachments": {},
   "cell_type": "markdown",
   "id": "c7adafab",
   "metadata": {},
   "source": [
    "### Exercise 3"
   ]
  },
  {
   "attachments": {},
   "cell_type": "markdown",
   "id": "1e32da00",
   "metadata": {},
   "source": [
    "**(a)** Solve the following LP problem (called further primal problem) graphically. (without Python); include in your graph contour lines (isolines) of the objective function. Specify the optimal values for the variables and the objective function.\n",
    "$$ 𝑀𝑎𝑥 \\quad 𝑓(𝑥_1,𝑥_2)=−𝑥_1+5𝑥_2 \\\\\n",
    "𝑠.𝑡. \\: \\: 𝑥_1+𝑥_2≤5 \\\\\n",
    "3𝑥_1−4𝑥_2≥8 \\\\\n",
    "𝑥_1,𝑥2≥0 $$ \\\\\n",
    "\n",
    "**(b)** Formulate a dual problem for the primary problem presented in 3(a) and determine which constraints are active (binding) in the dual problem.\n",
    "\n",
    "**(c)** Calculate the shadow price for the active constraints defined in (b) for the dual problem. Answer this question without using Python"
   ]
  },
  {
   "attachments": {},
   "cell_type": "markdown",
   "id": "69a8dddd",
   "metadata": {},
   "source": [
    "<div style=\"color:red\">\n",
    "\n",
    "**(a)**  \n",
    "The boundary condition 𝑥1≥ 1 is not active.  \n",
    "Maximum value =1O  \n",
    "Optimalsolution: x1=4; x2=1\n",
    "</div>"
   ]
  },
  {
   "attachments": {},
   "cell_type": "markdown",
   "id": "b2c5fb10",
   "metadata": {},
   "source": [
    "<div style=\"color:red\">\n",
    "\n",
    "**(b)**\n",
    "Dual problem with u_3:\n",
    "$$ Min \\quad J(u_1,u_2,u_3)=5u_1+8u_2 - u_3 \\\\ $$\n",
    "subject to:  \n",
    "$$ u_1-3u_2 - u_3 \\geq -1  \\\\ $$\n",
    "$$ u_1+4u_2 \\geq 5  \\\\  $$\n",
    "$$ u_1,u_2,u_3 \\geq 0   \\\\  $$\n",
    "\n",
    "Dual problem without u_3:\n",
    "$$ Min \\quad J(u_1,u_2)=5u_1+8u_2 \\\\ $$\n",
    "subject to: \n",
    "$$ u_1-3u_2 \\geq -1 \\\\ $$\n",
    "$$ u_1+4u_2 \\geq 5 \\\\ $$\n",
    "$$ u_1,u_2 \\geq 0  \\\\   $$\n",
    "\n",
    "Both boundary conditions are active.\n",
    "</div>"
   ]
  },
  {
   "attachments": {},
   "cell_type": "markdown",
   "id": "9feca8b9",
   "metadata": {},
   "source": [
    "<div style=\"color:red\">\n",
    "\n",
    "**(c)**  \n",
    "First constraint: Shadow price = 4 €   \n",
    "Second constraint:Shadow price = 1 €"
   ]
  }
 ],
 "metadata": {
  "kernelspec": {
   "display_name": "Python 3 (ipykernel)",
   "language": "python",
   "name": "python3"
  },
  "language_info": {
   "codemirror_mode": {
    "name": "ipython",
    "version": 3
   },
   "file_extension": ".py",
   "mimetype": "text/x-python",
   "name": "python",
   "nbconvert_exporter": "python",
   "pygments_lexer": "ipython3",
   "version": "3.10.2"
  }
 },
 "nbformat": 4,
 "nbformat_minor": 5
}
